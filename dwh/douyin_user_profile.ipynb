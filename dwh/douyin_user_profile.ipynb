{
 "cells": [
  {
   "cell_type": "code",
   "execution_count": 19,
   "metadata": {},
   "outputs": [],
   "source": [
    "from bs4 import BeautifulSoup\n",
    "import urllib.request\n",
    "import requests\n",
    "from pprint import pprint\n",
    "import pandas as pd\n",
    "import json\n",
    "import copy\n",
    "from datetime import datetime, timezone\n",
    "from google.cloud import storage\n",
    "import gcsfs\n",
    "import re\n",
    "from typing import List"
   ]
  },
  {
   "cell_type": "code",
   "execution_count": 20,
   "metadata": {},
   "outputs": [],
   "source": [
    "storage_client = storage.Client(project=\"ytone-430507\")\n",
    "today = datetime.now()\n",
    "api_name = \"douyin_user_profile\""
   ]
  },
  {
   "cell_type": "code",
   "execution_count": 21,
   "metadata": {},
   "outputs": [
    {
     "data": {
      "text/plain": [
       "[{'blob': <Blob: 0_raw_data, 3_douyin/2024-10-13/douyin_user_profile_1014_0.json, 1728841577274902>,\n",
       "  'date': datetime.datetime(2024, 10, 13, 0, 0),\n",
       "  'batch_number': '0'}]"
      ]
     },
     "execution_count": 21,
     "metadata": {},
     "output_type": "execute_result"
    }
   ],
   "source": [
    "processing_blobs = [\n",
    "{\n",
    "    \"blob\": blob,\n",
    "    \"date\": datetime.strptime(blob.name.split('/')[1], \"%Y-%m-%d\"),\n",
    "    \"batch_number\": blob.name.split('/')[-1].replace(\".json\", \"\").split(\"_\")[-1],\n",
    "} for blob in storage_client.list_blobs(\"0_raw_data\",prefix=\"3_douyin/\") if api_name in blob.name]\n",
    "processing_blobs"
   ]
  },
  {
   "cell_type": "code",
   "execution_count": 22,
   "metadata": {},
   "outputs": [
    {
     "data": {
      "text/plain": [
       "[{'blob': <Blob: 3_staging_area, 2_douyin/douyin_user_profile/2024-10-13/douyin_user_profile_241014_0.parquet, 1728896868164079>,\n",
       "  'date': datetime.datetime(2024, 10, 13, 0, 0),\n",
       "  'batch_number': '0'}]"
      ]
     },
     "execution_count": 22,
     "metadata": {},
     "output_type": "execute_result"
    }
   ],
   "source": [
    "processed_blobs = [{\n",
    "    \"blob\": blob,\n",
    "    \"date\": datetime.strptime(blob.name.split('/')[2], \"%Y-%m-%d\"),\n",
    "    \"batch_number\": blob.name.split('/')[-1].replace(\".parquet\", \"\").split(\"_\")[-1],\n",
    "} for blob in storage_client.list_blobs(\"3_staging_area\",prefix=\"2_douyin/\") if api_name in blob.name]\n",
    "processed_blobs"
   ]
  },
  {
   "cell_type": "code",
   "execution_count": 23,
   "metadata": {},
   "outputs": [
    {
     "name": "stdout",
     "output_type": "stream",
     "text": [
      "[]\n",
      "0\n"
     ]
    }
   ],
   "source": [
    "to_process = []\n",
    "for processing_blob in processing_blobs:\n",
    "    if processing_blob[\"date\"] >= datetime(2024, 9, 17):\n",
    "        if processing_blob[\"batch_number\"] not in [processed_blob[\"batch_number\"] for processed_blob in processed_blobs if processing_blob[\"date\"] == processed_blob[\"date\"]]:\n",
    "            to_process.append(processing_blob)\n",
    "pprint(to_process)\n",
    "print(len(to_process))"
   ]
  },
  {
   "cell_type": "code",
   "execution_count": 16,
   "metadata": {},
   "outputs": [],
   "source": [
    "def get_douyin_user_profile_data(raw_data):\n",
    "    result = []\n",
    "    for data in raw_data:\n",
    "        record = {}\n",
    "        user_profile_data = data.get(\"user_profile_data\")\n",
    "        if user_profile_data:\n",
    "            user = user_profile_data.get(\"user\")\n",
    "            if user:\n",
    "                record[\"profile_id\"] = data[\"profile_id\"]\n",
    "                record[\"follower_count\"] = user.get(\"follower_count\")\n",
    "                record[\"scrape_date\"] = str(today.date())\n",
    "                record[\"unique_id\"] = user.get(\"unique_id\")\n",
    "                result.append(record)\n",
    "    return result"
   ]
  },
  {
   "cell_type": "code",
   "execution_count": 17,
   "metadata": {},
   "outputs": [],
   "source": [
    "for item in to_process:\n",
    "    raw_data = json.loads(item[\"blob\"].download_as_string())\n",
    "    result = get_douyin_user_profile_data(raw_data)\n",
    "    df = pd.DataFrame(result)\n",
    "    df.to_parquet(\"gs://3_staging_area/2_douyin/douyin_user_profile/\" + str(item[\"date\"].date()) + \"/douyin_user_profile_\" + today.strftime(\"%y%m%d\") + \"_\" + str(item[\"batch_number\"]) + \".parquet\")"
   ]
  }
 ],
 "metadata": {
  "kernelspec": {
   "display_name": "Python 3",
   "language": "python",
   "name": "python3"
  },
  "language_info": {
   "codemirror_mode": {
    "name": "ipython",
    "version": 3
   },
   "file_extension": ".py",
   "mimetype": "text/x-python",
   "name": "python",
   "nbconvert_exporter": "python",
   "pygments_lexer": "ipython3",
   "version": "3.11.6"
  }
 },
 "nbformat": 4,
 "nbformat_minor": 2
}
