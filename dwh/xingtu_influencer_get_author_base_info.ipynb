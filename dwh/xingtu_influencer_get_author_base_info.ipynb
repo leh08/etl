{
 "cells": [
  {
   "cell_type": "code",
   "execution_count": 1,
   "metadata": {},
   "outputs": [],
   "source": [
    "from bs4 import BeautifulSoup\n",
    "import urllib.request\n",
    "import requests\n",
    "from pprint import pprint\n",
    "import pandas as pd\n",
    "import json\n",
    "import copy\n",
    "from datetime import datetime, timezone\n",
    "from google.cloud import storage\n",
    "import gcsfs\n",
    "import re"
   ]
  },
  {
   "cell_type": "code",
   "execution_count": 2,
   "metadata": {},
   "outputs": [],
   "source": [
    "storage_client = storage.Client(project=\"ytone-430507\")\n",
    "today = datetime.now()\n",
    "table_name = \"douyin_influencer\"\n",
    "api_name = \"get_author_base_info\""
   ]
  },
  {
   "cell_type": "code",
   "execution_count": 3,
   "metadata": {},
   "outputs": [
    {
     "data": {
      "text/plain": [
       "[{'blob': <Blob: 0_raw_data, 2_xingtu/2024-09-11/get_author_base_info_0911_0.json, 1726037771767688>,\n",
       "  'date': datetime.datetime(2024, 9, 11, 0, 0),\n",
       "  'batch_number': 0},\n",
       " {'blob': <Blob: 0_raw_data, 2_xingtu/2024-09-17/get_author_base_info_0917_0.json, 1726565274658091>,\n",
       "  'date': datetime.datetime(2024, 9, 17, 0, 0),\n",
       "  'batch_number': 0},\n",
       " {'blob': <Blob: 0_raw_data, 2_xingtu/2024-09-18/get_author_base_info_0918_0.json, 1726633853328119>,\n",
       "  'date': datetime.datetime(2024, 9, 18, 0, 0),\n",
       "  'batch_number': 0},\n",
       " {'blob': <Blob: 0_raw_data, 2_xingtu/2024-09-19/get_author_base_info_0919_0.json, 1726719805616242>,\n",
       "  'date': datetime.datetime(2024, 9, 19, 0, 0),\n",
       "  'batch_number': 0},\n",
       " {'blob': <Blob: 0_raw_data, 2_xingtu/2024-10-09/get_author_base_info_241009_0.json, 1728452332203839>,\n",
       "  'date': datetime.datetime(2024, 10, 9, 0, 0),\n",
       "  'batch_number': 0},\n",
       " {'blob': <Blob: 0_raw_data, 2_xingtu/2024-10-11/get_author_base_info_1011_0.json, 1728632483067101>,\n",
       "  'date': datetime.datetime(2024, 10, 11, 0, 0),\n",
       "  'batch_number': 0}]"
      ]
     },
     "execution_count": 3,
     "metadata": {},
     "output_type": "execute_result"
    }
   ],
   "source": [
    "processing_blobs = [\n",
    "{\n",
    "    \"blob\": blob,\n",
    "    \"date\": datetime.strptime(blob.name.split('/')[1], \"%Y-%m-%d\"),\n",
    "    \"batch_number\": int(blob.name.split('/')[-1].replace(\".json\", \"\").split(\"_\")[-1]),\n",
    "} for blob in storage_client.list_blobs(\"0_raw_data\",prefix=\"2_xingtu/\") if api_name in blob.name]\n",
    "processing_blobs"
   ]
  },
  {
   "cell_type": "code",
   "execution_count": 4,
   "metadata": {},
   "outputs": [
    {
     "data": {
      "text/plain": [
       "[{'blob': <Blob: 3_staging_area, 1_xingtu/douyin_influencer/2024-09-11/get_author_base_info_240920_0.parquet, 1726803504667584>,\n",
       "  'date': datetime.datetime(2024, 9, 11, 0, 0),\n",
       "  'batch_number': 0},\n",
       " {'blob': <Blob: 3_staging_area, 1_xingtu/douyin_influencer/2024-09-17/get_author_base_info_240920_0.parquet, 1726803627188174>,\n",
       "  'date': datetime.datetime(2024, 9, 17, 0, 0),\n",
       "  'batch_number': 0},\n",
       " {'blob': <Blob: 3_staging_area, 1_xingtu/douyin_influencer/2024-09-18/get_author_base_info_240920_0.parquet, 1726803629892657>,\n",
       "  'date': datetime.datetime(2024, 9, 18, 0, 0),\n",
       "  'batch_number': 0},\n",
       " {'blob': <Blob: 3_staging_area, 1_xingtu/douyin_influencer/2024-09-19/get_author_base_info_240920_0.parquet, 1726803631833151>,\n",
       "  'date': datetime.datetime(2024, 9, 19, 0, 0),\n",
       "  'batch_number': 0},\n",
       " {'blob': <Blob: 3_staging_area, 1_xingtu/douyin_influencer/2024-10-09/get_author_base_info_241009_0.parquet, 1728457802828707>,\n",
       "  'date': datetime.datetime(2024, 10, 9, 0, 0),\n",
       "  'batch_number': 0}]"
      ]
     },
     "execution_count": 4,
     "metadata": {},
     "output_type": "execute_result"
    }
   ],
   "source": [
    "processed_blobs = [{\n",
    "    \"blob\": blob,\n",
    "    \"date\": datetime.strptime(blob.name.split('/')[2], \"%Y-%m-%d\"),\n",
    "    \"batch_number\": int(blob.name.split('/')[-1].replace(\".parquet\", \"\").split(\"_\")[-1]),\n",
    "} for blob in storage_client.list_blobs(\"3_staging_area\",prefix=\"1_xingtu/\") if table_name == blob.name.split(\"/\")[1] and api_name in blob.name and blob.name.split(\"/\")[2] and blob.name.split(\"/\")[3]]\n",
    "processed_blobs"
   ]
  },
  {
   "cell_type": "code",
   "execution_count": 5,
   "metadata": {},
   "outputs": [
    {
     "name": "stdout",
     "output_type": "stream",
     "text": [
      "[{'batch_number': 0,\n",
      "  'blob': <Blob: 0_raw_data, 2_xingtu/2024-10-11/get_author_base_info_1011_0.json, 1728632483067101>,\n",
      "  'date': datetime.datetime(2024, 10, 11, 0, 0)}]\n",
      "1\n"
     ]
    }
   ],
   "source": [
    "to_process = []\n",
    "for processing_blob in processing_blobs:\n",
    "    if processing_blob[\"date\"] >= datetime(2024, 9, 13):\n",
    "        if processing_blob[\"batch_number\"] not in [processed_blob[\"batch_number\"] for processed_blob in processed_blobs if processing_blob[\"date\"] == processed_blob[\"date\"]]:\n",
    "            to_process.append(processing_blob)\n",
    "pprint(to_process)\n",
    "print(len(to_process))"
   ]
  },
  {
   "cell_type": "code",
   "execution_count": 6,
   "metadata": {},
   "outputs": [],
   "source": [
    "def get_author_base_info_data(raw_data):\n",
    "    result = []\n",
    "    for data in raw_data:\n",
    "        get_author_base_info = data.get(\"get_author_base_info\")\n",
    "        if get_author_base_info:\n",
    "            record = {}\n",
    "            profile_id = data[\"profile_id\"]\n",
    "            record[\"user_id\"] = profile_id\n",
    "            record[\"avg_play\"] = get_author_base_info[\"avg_play\"]\n",
    "            record[\"city\"] = get_author_base_info[\"city\"]\n",
    "            record[\"core_user_id\"] = get_author_base_info[\"core_user_id\"]\n",
    "            record[\"e_commerce_enable\"] = get_author_base_info[\"e_commerce_enable\"]\n",
    "            record[\"is_star\"] = get_author_base_info[\"is_star\"]\n",
    "            record[\"lowest_price\"] = get_author_base_info[\"lowest_price\"]\n",
    "            record[\"province\"] = get_author_base_info[\"province\"]\n",
    "            record[\"short_id\"] = get_author_base_info[\"short_id\"]\n",
    "            record[\"tags_ids\"] = get_author_base_info[\"tags_ids\"]\n",
    "            record[\"tags_ids_level_two\"] = get_author_base_info[\"tags_ids_level_two\"]\n",
    "            record[\"unique_id\"] = get_author_base_info[\"unique_id\"]\n",
    "            record[\"nickname\"] = get_author_base_info[\"nick_name\"]\n",
    "            record[\"image_url\"] = get_author_base_info[\"avatar_uri\"]\n",
    "            record[\"fans_count\"] = get_author_base_info[\"follower\"]\n",
    "            record[\"sex\"] = get_author_base_info[\"gender\"]\n",
    "            record[\"create_time\"] = datetime.fromtimestamp(int(get_author_base_info[\"create_time\"])).replace(tzinfo=timezone.utc)\n",
    "            record[\"modify_time\"] = datetime.fromtimestamp(int(get_author_base_info[\"modify_time\"])).replace(tzinfo=timezone.utc)\n",
    "            result.append(record)\n",
    "    return result"
   ]
  },
  {
   "cell_type": "code",
   "execution_count": 7,
   "metadata": {},
   "outputs": [],
   "source": [
    "for item in to_process:\n",
    "    raw_data = json.loads(item[\"blob\"].download_as_string())\n",
    "    author_base_info_data = get_author_base_info_data(raw_data)\n",
    "    df = pd.DataFrame(author_base_info_data)\n",
    "    df.to_parquet(\"gs://3_staging_area/1_xingtu/douyin_influencer/\" + str(item[\"date\"].date()) + \"/get_author_base_info_\" + today.strftime(\"%y%m%d\") + \"_\" + str(item[\"batch_number\"]) + \".parquet\")"
   ]
  }
 ],
 "metadata": {
  "kernelspec": {
   "display_name": "Python 3",
   "language": "python",
   "name": "python3"
  },
  "language_info": {
   "codemirror_mode": {
    "name": "ipython",
    "version": 3
   },
   "file_extension": ".py",
   "mimetype": "text/x-python",
   "name": "python",
   "nbconvert_exporter": "python",
   "pygments_lexer": "ipython3",
   "version": "3.11.6"
  }
 },
 "nbformat": 4,
 "nbformat_minor": 2
}
