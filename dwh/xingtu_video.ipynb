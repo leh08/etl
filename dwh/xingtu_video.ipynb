{
 "cells": [
  {
   "cell_type": "code",
   "execution_count": 7,
   "metadata": {},
   "outputs": [],
   "source": [
    "from bs4 import BeautifulSoup\n",
    "import urllib.request\n",
    "import requests\n",
    "from pprint import pprint\n",
    "import pandas as pd\n",
    "import json\n",
    "import copy\n",
    "from datetime import datetime, timezone\n",
    "from google.cloud import storage\n",
    "import gcsfs\n",
    "import re\n",
    "from typing import List"
   ]
  },
  {
   "cell_type": "code",
   "execution_count": 8,
   "metadata": {},
   "outputs": [],
   "source": [
    "storage_client = storage.Client(project=\"ytone-430507\")\n",
    "today = datetime.now()\n",
    "table_name = \"douyin_video\"\n",
    "api_name = \"get_author_show_items_v2\""
   ]
  },
  {
   "cell_type": "code",
   "execution_count": 9,
   "metadata": {},
   "outputs": [],
   "source": [
    "video_data = []\n",
    "video_columns = [\"video_id\", \"item_id\", \"title\", \"image_url\", \"comment\", \"like\", \"share\", \"play\", \"create_time\", \"duration\", \"influencer_id\"]"
   ]
  },
  {
   "cell_type": "code",
   "execution_count": 10,
   "metadata": {},
   "outputs": [
    {
     "data": {
      "text/plain": [
       "[{'blob': <Blob: 0_raw_data, 2_xingtu/2024-09-11/get_author_show_items_v2_0911_0.json, 1726037775725233>,\n",
       "  'date': datetime.datetime(2024, 9, 11, 0, 0),\n",
       "  'batch_number': 0},\n",
       " {'blob': <Blob: 0_raw_data, 2_xingtu/2024-09-17/get_author_show_items_v2_0917_0.json, 1726565277410211>,\n",
       "  'date': datetime.datetime(2024, 9, 17, 0, 0),\n",
       "  'batch_number': 0},\n",
       " {'blob': <Blob: 0_raw_data, 2_xingtu/2024-09-18/get_author_show_items_v2_0918_0.json, 1726633856126752>,\n",
       "  'date': datetime.datetime(2024, 9, 18, 0, 0),\n",
       "  'batch_number': 0},\n",
       " {'blob': <Blob: 0_raw_data, 2_xingtu/2024-09-19/get_author_show_items_v2_0919_0.json, 1726719807869764>,\n",
       "  'date': datetime.datetime(2024, 9, 19, 0, 0),\n",
       "  'batch_number': 0},\n",
       " {'blob': <Blob: 0_raw_data, 2_xingtu/2024-10-09/get_author_show_items_v2_241009_0.json, 1728447750932489>,\n",
       "  'date': datetime.datetime(2024, 10, 9, 0, 0),\n",
       "  'batch_number': 0},\n",
       " {'blob': <Blob: 0_raw_data, 2_xingtu/2024-10-10/get_author_show_items_v2_1010_0.json, 1728549328732271>,\n",
       "  'date': datetime.datetime(2024, 10, 10, 0, 0),\n",
       "  'batch_number': 0},\n",
       " {'blob': <Blob: 0_raw_data, 2_xingtu/2024-10-11/get_author_show_items_v2_1011_0.json, 1728632787878432>,\n",
       "  'date': datetime.datetime(2024, 10, 11, 0, 0),\n",
       "  'batch_number': 0}]"
      ]
     },
     "execution_count": 10,
     "metadata": {},
     "output_type": "execute_result"
    }
   ],
   "source": [
    "processing_blobs = [\n",
    "{\n",
    "    \"blob\": blob,\n",
    "    \"date\": datetime.strptime(blob.name.split('/')[1], \"%Y-%m-%d\"),\n",
    "    \"batch_number\": int(blob.name.split('/')[-1].replace(\".json\", \"\").split(\"_\")[-1]),\n",
    "} for blob in storage_client.list_blobs(\"0_raw_data\",prefix=\"2_xingtu/\") if api_name in blob.name]\n",
    "processing_blobs"
   ]
  },
  {
   "cell_type": "code",
   "execution_count": 11,
   "metadata": {},
   "outputs": [
    {
     "data": {
      "text/plain": [
       "[{'blob': <Blob: 4_data_warehouse, 1_xingtu/douyin_video/2024-09-08/douyin_video_240918_0.parquet, 1726637067624622>,\n",
       "  'date': datetime.datetime(2024, 9, 8, 0, 0),\n",
       "  'batch_number': 0},\n",
       " {'blob': <Blob: 4_data_warehouse, 1_xingtu/douyin_video/2024-09-08/douyin_video_240918_1.parquet, 1726637228209113>,\n",
       "  'date': datetime.datetime(2024, 9, 8, 0, 0),\n",
       "  'batch_number': 1},\n",
       " {'blob': <Blob: 4_data_warehouse, 1_xingtu/douyin_video/2024-09-11/douyin_video_240918_0.parquet, 1726641889438713>,\n",
       "  'date': datetime.datetime(2024, 9, 11, 0, 0),\n",
       "  'batch_number': 0},\n",
       " {'blob': <Blob: 4_data_warehouse, 1_xingtu/douyin_video/2024-09-17/douyin_video_240918_0.parquet, 1726642029290605>,\n",
       "  'date': datetime.datetime(2024, 9, 17, 0, 0),\n",
       "  'batch_number': 0},\n",
       " {'blob': <Blob: 4_data_warehouse, 1_xingtu/douyin_video/2024-09-18/douyin_video_240918_0.parquet, 1726652981717438>,\n",
       "  'date': datetime.datetime(2024, 9, 18, 0, 0),\n",
       "  'batch_number': 0},\n",
       " {'blob': <Blob: 4_data_warehouse, 1_xingtu/douyin_video/2024-09-19/douyin_video_240919_0.parquet, 1726722009256356>,\n",
       "  'date': datetime.datetime(2024, 9, 19, 0, 0),\n",
       "  'batch_number': 0},\n",
       " {'blob': <Blob: 4_data_warehouse, 1_xingtu/douyin_video/2024-10-09/douyin_video_241009_0.parquet, 1728459538488024>,\n",
       "  'date': datetime.datetime(2024, 10, 9, 0, 0),\n",
       "  'batch_number': 0},\n",
       " {'blob': <Blob: 4_data_warehouse, 1_xingtu/douyin_video/2024-10-10/douyin_video_241010_0.parquet, 1728550161852165>,\n",
       "  'date': datetime.datetime(2024, 10, 10, 0, 0),\n",
       "  'batch_number': 0}]"
      ]
     },
     "execution_count": 11,
     "metadata": {},
     "output_type": "execute_result"
    }
   ],
   "source": [
    "processed_blobs = [{\n",
    "    \"blob\": blob,\n",
    "    \"date\": datetime.strptime(blob.name.split('/')[2], \"%Y-%m-%d\"),\n",
    "    \"batch_number\": int(blob.name.split('/')[-1].replace(\".parquet\", \"\").split(\"_\")[-1]),\n",
    "} for blob in storage_client.list_blobs(\"4_data_warehouse\",prefix=\"1_xingtu/\") if table_name == blob.name.split(\"/\")[1] and len(blob.name.split(\"/\")) == 4]\n",
    "processed_blobs"
   ]
  },
  {
   "cell_type": "code",
   "execution_count": 12,
   "metadata": {},
   "outputs": [
    {
     "name": "stdout",
     "output_type": "stream",
     "text": [
      "[{'batch_number': 0,\n",
      "  'blob': <Blob: 0_raw_data, 2_xingtu/2024-10-11/get_author_show_items_v2_1011_0.json, 1728632787878432>,\n",
      "  'date': datetime.datetime(2024, 10, 11, 0, 0)}]\n",
      "1\n"
     ]
    }
   ],
   "source": [
    "to_process = []\n",
    "for processing_blob in processing_blobs:\n",
    "    if processing_blob[\"date\"] >= datetime(2024, 9, 13):\n",
    "        if processing_blob[\"batch_number\"] not in [processed_blob[\"batch_number\"] for processed_blob in processed_blobs if processing_blob[\"date\"] == processed_blob[\"date\"]]:\n",
    "            to_process.append(processing_blob)\n",
    "pprint(to_process)\n",
    "print(len(to_process))"
   ]
  },
  {
   "cell_type": "code",
   "execution_count": 13,
   "metadata": {},
   "outputs": [],
   "source": [
    "def get_author_show_items_v2_data(raw_data):\n",
    "    result = []\n",
    "    for data in raw_data:\n",
    "        get_author_show_items_v2 = data.get(\"get_author_show_items_v2\")\n",
    "        profile_id = data[\"profile_id\"]\n",
    "        if get_author_show_items_v2:\n",
    "            latest_item_info = get_author_show_items_v2.get(\"latest_item_info\")\n",
    "            latest_star_item_info = get_author_show_items_v2.get(\"latest_star_item_info\")\n",
    "            items = latest_item_info + latest_star_item_info\n",
    "            if items:\n",
    "                for item in items:\n",
    "                    record = {}\n",
    "                    record[\"comment\"] = item[\"comment\"]\n",
    "                    record[\"like\"] = item[\"like\"]\n",
    "                    record[\"share\"] = item[\"share\"]\n",
    "                    record[\"play\"] = item[\"play\"]\n",
    "                    record[\"video_id\"] = item[\"video_id\"]\n",
    "                    record[\"item_id\"] = item[\"item_id\"]\n",
    "                    record[\"title\"] = item[\"title\"]\n",
    "                    record[\"image_url\"] = item[\"item_cover\"]\n",
    "                    record[\"create_time\"] = str(datetime.fromtimestamp(int(item[\"create_time\"])).replace(tzinfo=timezone.utc))\n",
    "                    record[\"duration\"] = item[\"duration\"]\n",
    "                    record[\"influencer_id\"] = profile_id\n",
    "                    result.append(record)\n",
    "    return result\n"
   ]
  },
  {
   "cell_type": "code",
   "execution_count": 14,
   "metadata": {},
   "outputs": [],
   "source": [
    "for item in to_process:\n",
    "    raw_data = json.loads(item[\"blob\"].download_as_string())\n",
    "    video_data = get_author_show_items_v2_data(raw_data)\n",
    "    df = pd.DataFrame(video_data, columns=video_columns)\n",
    "    df.to_parquet(\"gs://4_data_warehouse/1_xingtu/douyin_video/\" + str(item[\"date\"].date()) + \"/douyin_video_\" + today.strftime(\"%y%m%d\") + \"_\" + str(item[\"batch_number\"]) + \".parquet\")"
   ]
  }
 ],
 "metadata": {
  "kernelspec": {
   "display_name": "Python 3",
   "language": "python",
   "name": "python3"
  },
  "language_info": {
   "codemirror_mode": {
    "name": "ipython",
    "version": 3
   },
   "file_extension": ".py",
   "mimetype": "text/x-python",
   "name": "python",
   "nbconvert_exporter": "python",
   "pygments_lexer": "ipython3",
   "version": "3.11.6"
  }
 },
 "nbformat": 4,
 "nbformat_minor": 2
}
