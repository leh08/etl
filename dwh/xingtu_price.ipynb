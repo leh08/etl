{
 "cells": [
  {
   "cell_type": "code",
   "execution_count": 7,
   "metadata": {},
   "outputs": [],
   "source": [
    "from bs4 import BeautifulSoup\n",
    "import urllib.request\n",
    "import requests\n",
    "from pprint import pprint\n",
    "import pandas as pd\n",
    "import json\n",
    "import copy\n",
    "from datetime import datetime, timezone\n",
    "from google.cloud import storage\n",
    "import gcsfs\n",
    "import re\n",
    "from typing import List"
   ]
  },
  {
   "cell_type": "code",
   "execution_count": 8,
   "metadata": {},
   "outputs": [],
   "source": [
    "storage_client = storage.Client(project=\"ytone-430507\")\n",
    "today = datetime.now()\n",
    "table_name = \"douyin_price\"\n",
    "api_name = \"get_author_marketing_info\""
   ]
  },
  {
   "cell_type": "code",
   "execution_count": 9,
   "metadata": {},
   "outputs": [],
   "source": [
    "price_data = []\n",
    "price_columns = [\"video_type\", \"settlement_type\", \"is_open\", \"origin_price\", \"price\", \"has_discount\", \"influencer_id\"]"
   ]
  },
  {
   "cell_type": "code",
   "execution_count": 10,
   "metadata": {},
   "outputs": [
    {
     "data": {
      "text/plain": [
       "[{'blob': <Blob: 0_raw_data, 2_xingtu/2024-09-11/get_author_marketing_info_0911_0.json, 1726037773893626>,\n",
       "  'date': datetime.datetime(2024, 9, 11, 0, 0),\n",
       "  'batch_number': 0},\n",
       " {'blob': <Blob: 0_raw_data, 2_xingtu/2024-09-17/get_author_marketing_info_0917_0.json, 1726565276671612>,\n",
       "  'date': datetime.datetime(2024, 9, 17, 0, 0),\n",
       "  'batch_number': 0},\n",
       " {'blob': <Blob: 0_raw_data, 2_xingtu/2024-09-18/get_author_marketing_info_0918_0.json, 1726633855345648>,\n",
       "  'date': datetime.datetime(2024, 9, 18, 0, 0),\n",
       "  'batch_number': 0},\n",
       " {'blob': <Blob: 0_raw_data, 2_xingtu/2024-09-19/get_author_marketing_info_0919_0.json, 1726719807493916>,\n",
       "  'date': datetime.datetime(2024, 9, 19, 0, 0),\n",
       "  'batch_number': 0},\n",
       " {'blob': <Blob: 0_raw_data, 2_xingtu/2024-10-09/get_author_marketing_info_241009_0.json, 1728451162976669>,\n",
       "  'date': datetime.datetime(2024, 10, 9, 0, 0),\n",
       "  'batch_number': 0},\n",
       " {'blob': <Blob: 0_raw_data, 2_xingtu/2024-10-11/get_author_marketing_info_1011_0.json, 1728632678124038>,\n",
       "  'date': datetime.datetime(2024, 10, 11, 0, 0),\n",
       "  'batch_number': 0}]"
      ]
     },
     "execution_count": 10,
     "metadata": {},
     "output_type": "execute_result"
    }
   ],
   "source": [
    "processing_blobs = [\n",
    "{\n",
    "    \"blob\": blob,\n",
    "    \"date\": datetime.strptime(blob.name.split('/')[1], \"%Y-%m-%d\"),\n",
    "    \"batch_number\": int(blob.name.split('/')[-1].replace(\".json\", \"\").split(\"_\")[-1]),\n",
    "} for blob in storage_client.list_blobs(\"0_raw_data\",prefix=\"2_xingtu/\") if api_name in blob.name]\n",
    "processing_blobs"
   ]
  },
  {
   "cell_type": "code",
   "execution_count": 11,
   "metadata": {},
   "outputs": [
    {
     "data": {
      "text/plain": [
       "[{'blob': <Blob: 4_data_warehouse, 1_xingtu/douyin_price/2024-09-08/douyin_price_240924_0.parquet, 1727152779136509>,\n",
       "  'date': datetime.datetime(2024, 9, 8, 0, 0),\n",
       "  'batch_number': 0},\n",
       " {'blob': <Blob: 4_data_warehouse, 1_xingtu/douyin_price/2024-09-08/douyin_price_240924_1.parquet, 1727152986107737>,\n",
       "  'date': datetime.datetime(2024, 9, 8, 0, 0),\n",
       "  'batch_number': 1},\n",
       " {'blob': <Blob: 4_data_warehouse, 1_xingtu/douyin_price/2024-09-11/douyin_price_240924_0.parquet, 1727153351296496>,\n",
       "  'date': datetime.datetime(2024, 9, 11, 0, 0),\n",
       "  'batch_number': 0},\n",
       " {'blob': <Blob: 4_data_warehouse, 1_xingtu/douyin_price/2024-09-17/douyin_price_240924_0.parquet, 1727154021846218>,\n",
       "  'date': datetime.datetime(2024, 9, 17, 0, 0),\n",
       "  'batch_number': 0},\n",
       " {'blob': <Blob: 4_data_warehouse, 1_xingtu/douyin_price/2024-09-18/douyin_price_240924_0.parquet, 1727154023696727>,\n",
       "  'date': datetime.datetime(2024, 9, 18, 0, 0),\n",
       "  'batch_number': 0},\n",
       " {'blob': <Blob: 4_data_warehouse, 1_xingtu/douyin_price/2024-09-19/douyin_price_240924_0.parquet, 1727154025514111>,\n",
       "  'date': datetime.datetime(2024, 9, 19, 0, 0),\n",
       "  'batch_number': 0},\n",
       " {'blob': <Blob: 4_data_warehouse, 1_xingtu/douyin_price/2024-10-09/douyin_price_241009_0.parquet, 1728459321856404>,\n",
       "  'date': datetime.datetime(2024, 10, 9, 0, 0),\n",
       "  'batch_number': 0}]"
      ]
     },
     "execution_count": 11,
     "metadata": {},
     "output_type": "execute_result"
    }
   ],
   "source": [
    "processed_blobs = [{\n",
    "    \"blob\": blob,\n",
    "    \"date\": datetime.strptime(blob.name.split('/')[2], \"%Y-%m-%d\"),\n",
    "    \"batch_number\": int(blob.name.split('/')[-1].replace(\".parquet\", \"\").split(\"_\")[-1]),\n",
    "} for blob in storage_client.list_blobs(\"4_data_warehouse\",prefix=\"1_xingtu/\") if table_name == blob.name.split(\"/\")[1] and len(blob.name.split(\"/\")) == 4]\n",
    "processed_blobs"
   ]
  },
  {
   "cell_type": "code",
   "execution_count": 12,
   "metadata": {},
   "outputs": [
    {
     "name": "stdout",
     "output_type": "stream",
     "text": [
      "[{'batch_number': 0,\n",
      "  'blob': <Blob: 0_raw_data, 2_xingtu/2024-10-11/get_author_marketing_info_1011_0.json, 1728632678124038>,\n",
      "  'date': datetime.datetime(2024, 10, 11, 0, 0)}]\n",
      "1\n"
     ]
    }
   ],
   "source": [
    "to_process = []\n",
    "for processing_blob in processing_blobs:\n",
    "    if processing_blob[\"date\"] >= datetime(2024, 9, 13):\n",
    "        if processing_blob[\"batch_number\"] not in [processed_blob[\"batch_number\"] for processed_blob in processed_blobs if processing_blob[\"date\"] == processed_blob[\"date\"]]:\n",
    "            to_process.append(processing_blob)\n",
    "pprint(to_process)\n",
    "print(len(to_process))"
   ]
  },
  {
   "cell_type": "code",
   "execution_count": 16,
   "metadata": {},
   "outputs": [],
   "source": [
    "def get_price_author_marketing_info_data(raw_data):\n",
    "    result = []\n",
    "    for data in raw_data:\n",
    "        get_author_marketing_info = data.get(\"get_author_marketing_info\")\n",
    "        profile_id = data[\"profile_id\"]\n",
    "        if get_author_marketing_info:\n",
    "            price_info = get_author_marketing_info.get(\"price_info\")\n",
    "            if price_info:\n",
    "                for price in price_info:\n",
    "                    record = {}\n",
    "                    record[\"video_type\"] = price[\"video_type\"]\n",
    "                    record[\"settlement_type\"] = price[\"settlement_type\"]\n",
    "                    record[\"is_open\"] = price[\"is_open\"]\n",
    "                    if \"origin_price\" in price:\n",
    "                        record[\"origin_price\"] = price[\"origin_price\"]\n",
    "                    if \"price\" in price:\n",
    "                        record[\"price\"] = price[\"price\"]\n",
    "                    record[\"has_discount\"] = price[\"has_discount\"]\n",
    "                    record[\"influencer_id\"] = profile_id\n",
    "                    result.append(record)\n",
    "    return result\n"
   ]
  },
  {
   "cell_type": "code",
   "execution_count": 17,
   "metadata": {},
   "outputs": [],
   "source": [
    "for item in to_process:\n",
    "    raw_data = json.loads(item[\"blob\"].download_as_string())\n",
    "    price_data = get_price_author_marketing_info_data(raw_data)\n",
    "    df = pd.DataFrame(price_data, columns=price_columns)\n",
    "    df.to_parquet(\"gs://4_data_warehouse/1_xingtu/douyin_price/\" + str(item[\"date\"].date()) + \"/douyin_price_\" + today.strftime(\"%y%m%d\") + \"_\" + str(item[\"batch_number\"]) + \".parquet\")"
   ]
  }
 ],
 "metadata": {
  "kernelspec": {
   "display_name": "Python 3",
   "language": "python",
   "name": "python3"
  },
  "language_info": {
   "codemirror_mode": {
    "name": "ipython",
    "version": 3
   },
   "file_extension": ".py",
   "mimetype": "text/x-python",
   "name": "python",
   "nbconvert_exporter": "python",
   "pygments_lexer": "ipython3",
   "version": "3.11.6"
  }
 },
 "nbformat": 4,
 "nbformat_minor": 2
}
