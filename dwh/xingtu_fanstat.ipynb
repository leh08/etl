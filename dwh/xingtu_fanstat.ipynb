{
 "cells": [
  {
   "cell_type": "code",
   "execution_count": 1,
   "metadata": {},
   "outputs": [],
   "source": [
    "from bs4 import BeautifulSoup\n",
    "import urllib.request\n",
    "import requests\n",
    "from pprint import pprint\n",
    "import pandas as pd\n",
    "import json\n",
    "import copy\n",
    "from datetime import datetime, timezone\n",
    "from google.cloud import storage\n",
    "import gcsfs\n",
    "import re\n",
    "from typing import List"
   ]
  },
  {
   "cell_type": "code",
   "execution_count": 2,
   "metadata": {},
   "outputs": [],
   "source": [
    "storage_client = storage.Client(project=\"ytone-430507\")\n",
    "today = datetime.now()\n",
    "table_name = \"douyin_fanstat\"\n",
    "api_name = \"author_audience_distribution\""
   ]
  },
  {
   "cell_type": "code",
   "execution_count": 3,
   "metadata": {},
   "outputs": [],
   "source": [
    "fanstat_data = []\n",
    "fanstat_columns = [\"category\", \"name\", \"value\", \"influencer_id\"]"
   ]
  },
  {
   "cell_type": "code",
   "execution_count": 4,
   "metadata": {},
   "outputs": [
    {
     "data": {
      "text/plain": [
       "[{'blob': <Blob: 0_raw_data, 2_xingtu/2024-09-13/author_audience_distribution_0913_0.json, 1726205683009498>,\n",
       "  'date': datetime.datetime(2024, 9, 13, 0, 0),\n",
       "  'batch_number': '0'},\n",
       " {'blob': <Blob: 0_raw_data, 2_xingtu/2024-09-13/author_audience_distribution_0913_list300.json, 1726214662873452>,\n",
       "  'date': datetime.datetime(2024, 9, 13, 0, 0),\n",
       "  'batch_number': 'list300'},\n",
       " {'blob': <Blob: 0_raw_data, 2_xingtu/2024-09-17/author_audience_distribution_0917_0.json, 1726565274224590>,\n",
       "  'date': datetime.datetime(2024, 9, 17, 0, 0),\n",
       "  'batch_number': '0'},\n",
       " {'blob': <Blob: 0_raw_data, 2_xingtu/2024-09-18/author_audience_distribution_0918_0.json, 1726633852886434>,\n",
       "  'date': datetime.datetime(2024, 9, 18, 0, 0),\n",
       "  'batch_number': '0'},\n",
       " {'blob': <Blob: 0_raw_data, 2_xingtu/2024-10-09/author_audience_distribution_241009_0.json, 1728452634420312>,\n",
       "  'date': datetime.datetime(2024, 10, 9, 0, 0),\n",
       "  'batch_number': '0'}]"
      ]
     },
     "execution_count": 4,
     "metadata": {},
     "output_type": "execute_result"
    }
   ],
   "source": [
    "processing_blobs = [\n",
    "{\n",
    "    \"blob\": blob,\n",
    "    \"date\": datetime.strptime(blob.name.split('/')[1], \"%Y-%m-%d\"),\n",
    "    \"batch_number\": blob.name.split('/')[-1].replace(\".json\", \"\").split(\"_\")[-1],\n",
    "} for blob in storage_client.list_blobs(\"0_raw_data\",prefix=\"2_xingtu/\") if api_name in blob.name]\n",
    "processing_blobs"
   ]
  },
  {
   "cell_type": "code",
   "execution_count": 5,
   "metadata": {},
   "outputs": [
    {
     "data": {
      "text/plain": [
       "[{'blob': <Blob: 4_data_warehouse, 1_xingtu/douyin_fanstat/2024-09-13/douyin_fanstat_240918_0.parquet, 1726715720882245>,\n",
       "  'date': datetime.datetime(2024, 9, 13, 0, 0),\n",
       "  'batch_number': '0'},\n",
       " {'blob': <Blob: 4_data_warehouse, 1_xingtu/douyin_fanstat/2024-09-17/douyin_fanstat_240918_0.parquet, 1726715879609934>,\n",
       "  'date': datetime.datetime(2024, 9, 17, 0, 0),\n",
       "  'batch_number': '0'},\n",
       " {'blob': <Blob: 4_data_warehouse, 1_xingtu/douyin_fanstat/2024-09-18/douyin_fanstat_240919_0.parquet, 1726717827483806>,\n",
       "  'date': datetime.datetime(2024, 9, 18, 0, 0),\n",
       "  'batch_number': '0'}]"
      ]
     },
     "execution_count": 5,
     "metadata": {},
     "output_type": "execute_result"
    }
   ],
   "source": [
    "processed_blobs = [{\n",
    "    \"blob\": blob,\n",
    "    \"date\": datetime.strptime(blob.name.split('/')[2], \"%Y-%m-%d\"),\n",
    "    \"batch_number\": blob.name.split('/')[-1].replace(\".parquet\", \"\").split(\"_\")[-1],\n",
    "} for blob in storage_client.list_blobs(\"4_data_warehouse\",prefix=\"1_xingtu/\") if table_name == blob.name.split(\"/\")[1] and len(blob.name.split(\"/\")) == 4]\n",
    "processed_blobs"
   ]
  },
  {
   "cell_type": "code",
   "execution_count": 7,
   "metadata": {},
   "outputs": [
    {
     "name": "stdout",
     "output_type": "stream",
     "text": [
      "[{'batch_number': '0',\n",
      "  'blob': <Blob: 0_raw_data, 2_xingtu/2024-10-09/author_audience_distribution_241009_0.json, 1728452634420312>,\n",
      "  'date': datetime.datetime(2024, 10, 9, 0, 0)}]\n",
      "1\n"
     ]
    }
   ],
   "source": [
    "to_process = []\n",
    "for processing_blob in processing_blobs:\n",
    "    if processing_blob[\"date\"] >= datetime(2024, 9, 17):\n",
    "        if processing_blob[\"batch_number\"] not in [processed_blob[\"batch_number\"] for processed_blob in processed_blobs if processing_blob[\"date\"] == processed_blob[\"date\"]]:\n",
    "            to_process.append(processing_blob)\n",
    "pprint(to_process)\n",
    "print(len(to_process))"
   ]
  },
  {
   "cell_type": "code",
   "execution_count": 8,
   "metadata": {},
   "outputs": [],
   "source": [
    "mapping = {\n",
    "    \"省份分布\": \"province\",\n",
    "    \"年龄分布\": \"age\",\n",
    "    \"设备品牌分布\": \"device\",\n",
    "    \"性别分布\": \"gender\",\n",
    "}"
   ]
  },
  {
   "cell_type": "code",
   "execution_count": 9,
   "metadata": {},
   "outputs": [],
   "source": [
    "def get_author_audience_distribution_data(raw_data):\n",
    "    result = []\n",
    "    for data in raw_data:\n",
    "        author_audience_distribution = data.get(\"author_audience_distribution\")\n",
    "        profile_id = data[\"profile_id\"]\n",
    "        if author_audience_distribution:\n",
    "            distributions = author_audience_distribution.get(\"distributions\")\n",
    "            if distributions:\n",
    "                for distribution in distributions:\n",
    "                    if distribution[\"type_display\"] in mapping:\n",
    "                        items = distribution[\"distribution_list\"]\n",
    "                        for item in items:\n",
    "                            record = {}\n",
    "                            record[\"category\"] = mapping[distribution[\"type_display\"]]\n",
    "                            record[\"name\"] = item[\"distribution_key\"]\n",
    "                            record[\"value\"] = item[\"distribution_value\"]\n",
    "                            record[\"influencer_id\"] = profile_id\n",
    "                            result.append(record)\n",
    "    return result\n"
   ]
  },
  {
   "cell_type": "code",
   "execution_count": 10,
   "metadata": {},
   "outputs": [],
   "source": [
    "for item in to_process:\n",
    "    raw_data = json.loads(item[\"blob\"].download_as_string())\n",
    "    fanstat_data = get_author_audience_distribution_data(raw_data)\n",
    "    df = pd.DataFrame(fanstat_data, columns=fanstat_columns)\n",
    "    df.to_parquet(\"gs://4_data_warehouse/1_xingtu/douyin_fanstat/\" + str(item[\"date\"].date()) + \"/douyin_fanstat_\" + today.strftime(\"%y%m%d\") + \"_\" + str(item[\"batch_number\"]) + \".parquet\")"
   ]
  },
  {
   "cell_type": "code",
   "execution_count": null,
   "metadata": {},
   "outputs": [],
   "source": []
  }
 ],
 "metadata": {
  "kernelspec": {
   "display_name": "Python 3",
   "language": "python",
   "name": "python3"
  },
  "language_info": {
   "codemirror_mode": {
    "name": "ipython",
    "version": 3
   },
   "file_extension": ".py",
   "mimetype": "text/x-python",
   "name": "python",
   "nbconvert_exporter": "python",
   "pygments_lexer": "ipython3",
   "version": "3.11.6"
  }
 },
 "nbformat": 4,
 "nbformat_minor": 2
}
