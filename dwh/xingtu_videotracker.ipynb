{
 "cells": [
  {
   "cell_type": "code",
   "execution_count": 7,
   "metadata": {},
   "outputs": [],
   "source": [
    "from bs4 import BeautifulSoup\n",
    "import urllib.request\n",
    "import requests\n",
    "from pprint import pprint\n",
    "import pandas as pd\n",
    "import json\n",
    "import copy\n",
    "from datetime import datetime, timezone\n",
    "from google.cloud import storage\n",
    "import gcsfs\n",
    "import re\n",
    "from typing import List"
   ]
  },
  {
   "cell_type": "code",
   "execution_count": 8,
   "metadata": {},
   "outputs": [],
   "source": [
    "storage_client = storage.Client(project=\"ytone-430507\")\n",
    "today = datetime.now()\n",
    "table_name = \"douyin_videotracker\"\n",
    "api_name = \"get_author_show_items_v2\""
   ]
  },
  {
   "cell_type": "code",
   "execution_count": 9,
   "metadata": {},
   "outputs": [],
   "source": [
    "videotracker_data = []\n",
    "videotracker_columns = [\"date_key\", \"comment\", \"like\", \"share\", \"play\", \"video_id\"]"
   ]
  },
  {
   "cell_type": "code",
   "execution_count": 10,
   "metadata": {},
   "outputs": [
    {
     "data": {
      "text/plain": [
       "[{'blob': <Blob: 0_raw_data, 2_xingtu/2024-09-11/get_author_show_items_v2_0911_0.json, 1726037775725233>,\n",
       "  'date': datetime.datetime(2024, 9, 11, 0, 0),\n",
       "  'batch_number': 0},\n",
       " {'blob': <Blob: 0_raw_data, 2_xingtu/2024-09-17/get_author_show_items_v2_0917_0.json, 1726565277410211>,\n",
       "  'date': datetime.datetime(2024, 9, 17, 0, 0),\n",
       "  'batch_number': 0},\n",
       " {'blob': <Blob: 0_raw_data, 2_xingtu/2024-09-18/get_author_show_items_v2_0918_0.json, 1726633856126752>,\n",
       "  'date': datetime.datetime(2024, 9, 18, 0, 0),\n",
       "  'batch_number': 0},\n",
       " {'blob': <Blob: 0_raw_data, 2_xingtu/2024-09-19/get_author_show_items_v2_0919_0.json, 1726719807869764>,\n",
       "  'date': datetime.datetime(2024, 9, 19, 0, 0),\n",
       "  'batch_number': 0},\n",
       " {'blob': <Blob: 0_raw_data, 2_xingtu/2024-10-09/get_author_show_items_v2_241009_0.json, 1728447750932489>,\n",
       "  'date': datetime.datetime(2024, 10, 9, 0, 0),\n",
       "  'batch_number': 0},\n",
       " {'blob': <Blob: 0_raw_data, 2_xingtu/2024-10-10/get_author_show_items_v2_1010_0.json, 1728549328732271>,\n",
       "  'date': datetime.datetime(2024, 10, 10, 0, 0),\n",
       "  'batch_number': 0},\n",
       " {'blob': <Blob: 0_raw_data, 2_xingtu/2024-10-11/get_author_show_items_v2_1011_0.json, 1728632787878432>,\n",
       "  'date': datetime.datetime(2024, 10, 11, 0, 0),\n",
       "  'batch_number': 0}]"
      ]
     },
     "execution_count": 10,
     "metadata": {},
     "output_type": "execute_result"
    }
   ],
   "source": [
    "processing_blobs = [\n",
    "{\n",
    "    \"blob\": blob,\n",
    "    \"date\": datetime.strptime(blob.name.split('/')[1], \"%Y-%m-%d\"),\n",
    "    \"batch_number\": int(blob.name.split('/')[-1].replace(\".json\", \"\").split(\"_\")[-1]),\n",
    "} for blob in storage_client.list_blobs(\"0_raw_data\",prefix=\"2_xingtu/\") if api_name in blob.name]\n",
    "processing_blobs"
   ]
  },
  {
   "cell_type": "code",
   "execution_count": 11,
   "metadata": {},
   "outputs": [
    {
     "data": {
      "text/plain": [
       "[{'blob': <Blob: 4_data_warehouse, 1_xingtu/douyin_videotracker/2024-09-08/douyin_videotracker_240918_0.parquet, 1726633880501234>,\n",
       "  'date': datetime.datetime(2024, 9, 8, 0, 0),\n",
       "  'batch_number': 0},\n",
       " {'blob': <Blob: 4_data_warehouse, 1_xingtu/douyin_videotracker/2024-09-08/douyin_videotracker_240918_1.parquet, 1726635018636775>,\n",
       "  'date': datetime.datetime(2024, 9, 8, 0, 0),\n",
       "  'batch_number': 1},\n",
       " {'blob': <Blob: 4_data_warehouse, 1_xingtu/douyin_videotracker/2024-09-11/douyin_videotracker_240918_0.parquet, 1726634947023469>,\n",
       "  'date': datetime.datetime(2024, 9, 11, 0, 0),\n",
       "  'batch_number': 0},\n",
       " {'blob': <Blob: 4_data_warehouse, 1_xingtu/douyin_videotracker/2024-09-17/douyin_videotracker_240918_0.parquet, 1726635407406187>,\n",
       "  'date': datetime.datetime(2024, 9, 17, 0, 0),\n",
       "  'batch_number': 0},\n",
       " {'blob': <Blob: 4_data_warehouse, 1_xingtu/douyin_videotracker/2024-09-18/douyin_videotracker_240918_0.parquet, 1726653324072736>,\n",
       "  'date': datetime.datetime(2024, 9, 18, 0, 0),\n",
       "  'batch_number': 0},\n",
       " {'blob': <Blob: 4_data_warehouse, 1_xingtu/douyin_videotracker/2024-09-19/douyin_videotracker_240919_0.parquet, 1726722008316820>,\n",
       "  'date': datetime.datetime(2024, 9, 19, 0, 0),\n",
       "  'batch_number': 0},\n",
       " {'blob': <Blob: 4_data_warehouse, 1_xingtu/douyin_videotracker/2024-10-09/douyin_videotracker_241009_0.parquet, 1728460112376727>,\n",
       "  'date': datetime.datetime(2024, 10, 9, 0, 0),\n",
       "  'batch_number': 0},\n",
       " {'blob': <Blob: 4_data_warehouse, 1_xingtu/douyin_videotracker/2024-10-10/douyin_videotracker_241010_0.parquet, 1728555112460451>,\n",
       "  'date': datetime.datetime(2024, 10, 10, 0, 0),\n",
       "  'batch_number': 0}]"
      ]
     },
     "execution_count": 11,
     "metadata": {},
     "output_type": "execute_result"
    }
   ],
   "source": [
    "processed_blobs = [{\n",
    "    \"blob\": blob,\n",
    "    \"date\": datetime.strptime(blob.name.split('/')[2], \"%Y-%m-%d\"),\n",
    "    \"batch_number\": int(blob.name.split('/')[-1].replace(\".parquet\", \"\").split(\"_\")[-1]),\n",
    "} for blob in storage_client.list_blobs(\"4_data_warehouse\",prefix=\"1_xingtu/\") if table_name == blob.name.split(\"/\")[1] and len(blob.name.split(\"/\")) == 4]\n",
    "processed_blobs"
   ]
  },
  {
   "cell_type": "code",
   "execution_count": 12,
   "metadata": {},
   "outputs": [
    {
     "name": "stdout",
     "output_type": "stream",
     "text": [
      "[{'batch_number': 0,\n",
      "  'blob': <Blob: 0_raw_data, 2_xingtu/2024-10-11/get_author_show_items_v2_1011_0.json, 1728632787878432>,\n",
      "  'date': datetime.datetime(2024, 10, 11, 0, 0)}]\n",
      "1\n"
     ]
    }
   ],
   "source": [
    "to_process = []\n",
    "for processing_blob in processing_blobs:\n",
    "    if processing_blob[\"date\"] >= datetime(2024, 9, 13):\n",
    "        if processing_blob[\"batch_number\"] not in [processed_blob[\"batch_number\"] for processed_blob in processed_blobs if processing_blob[\"date\"] == processed_blob[\"date\"]]:\n",
    "            to_process.append(processing_blob)\n",
    "pprint(to_process)\n",
    "print(len(to_process))"
   ]
  },
  {
   "cell_type": "code",
   "execution_count": 13,
   "metadata": {},
   "outputs": [],
   "source": [
    "def get_author_show_items_v2_data(raw_data):\n",
    "    result = []\n",
    "    for data in raw_data:\n",
    "        get_author_show_items_v2 = data.get(\"get_author_show_items_v2\")\n",
    "        if get_author_show_items_v2:\n",
    "            latest_item_info = get_author_show_items_v2.get(\"latest_item_info\")\n",
    "            latest_star_item_info = get_author_show_items_v2.get(\"latest_star_item_info\")\n",
    "            items = latest_item_info + latest_star_item_info\n",
    "            if items:\n",
    "                for item in items:\n",
    "                    record = {}\n",
    "                    record[\"date_key\"] = item[\"create_time\"]\n",
    "                    record[\"comment\"] = item[\"comment\"]\n",
    "                    record[\"like\"] = item[\"like\"]\n",
    "                    record[\"share\"] = item[\"share\"]\n",
    "                    record[\"play\"] = item[\"play\"]\n",
    "                    record[\"video_id\"] = item[\"video_id\"]\n",
    "                    result.append(record)\n",
    "    return result\n"
   ]
  },
  {
   "cell_type": "code",
   "execution_count": 14,
   "metadata": {},
   "outputs": [],
   "source": [
    "for item in to_process:\n",
    "    raw_data = json.loads(item[\"blob\"].download_as_string())\n",
    "    videotracker_data = get_author_show_items_v2_data(raw_data)\n",
    "    df = pd.DataFrame(videotracker_data, columns=videotracker_columns)\n",
    "    df.to_parquet(\"gs://4_data_warehouse/1_xingtu/douyin_videotracker/\" + str(item[\"date\"].date()) + \"/douyin_videotracker_\" + today.strftime(\"%y%m%d\") + \"_\" + str(item[\"batch_number\"]) + \".parquet\")"
   ]
  }
 ],
 "metadata": {
  "kernelspec": {
   "display_name": "Python 3",
   "language": "python",
   "name": "python3"
  },
  "language_info": {
   "codemirror_mode": {
    "name": "ipython",
    "version": 3
   },
   "file_extension": ".py",
   "mimetype": "text/x-python",
   "name": "python",
   "nbconvert_exporter": "python",
   "pygments_lexer": "ipython3",
   "version": "3.11.6"
  }
 },
 "nbformat": 4,
 "nbformat_minor": 2
}
