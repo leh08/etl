{
 "cells": [
  {
   "cell_type": "code",
   "execution_count": 1,
   "metadata": {},
   "outputs": [],
   "source": [
    "from bs4 import BeautifulSoup\n",
    "import urllib.request\n",
    "import requests\n",
    "from pprint import pprint\n",
    "import pandas as pd\n",
    "import json\n",
    "import copy\n",
    "from datetime import datetime, timezone\n",
    "from google.cloud import storage\n",
    "import gcsfs\n",
    "import re\n",
    "from typing import List"
   ]
  },
  {
   "cell_type": "code",
   "execution_count": 2,
   "metadata": {},
   "outputs": [],
   "source": [
    "storage_client = storage.Client(project=\"ytone-430507\")\n",
    "today = datetime.now()\n",
    "api_name = \"douyin_user_post\""
   ]
  },
  {
   "cell_type": "code",
   "execution_count": 3,
   "metadata": {},
   "outputs": [
    {
     "data": {
      "text/plain": [
       "[{'blob': <Blob: 0_raw_data, 3_douyin/2024-10-13/douyin_user_post_1014_0.json, 1728841476150899>,\n",
       "  'date': datetime.datetime(2024, 10, 13, 0, 0),\n",
       "  'batch_number': '0'},\n",
       " {'blob': <Blob: 0_raw_data, 3_douyin/2024-10-13/douyin_user_post_1014_1.json, 1728841491073016>,\n",
       "  'date': datetime.datetime(2024, 10, 13, 0, 0),\n",
       "  'batch_number': '1'},\n",
       " {'blob': <Blob: 0_raw_data, 3_douyin/2024-10-13/douyin_user_post_1014_2.json, 1728841505683513>,\n",
       "  'date': datetime.datetime(2024, 10, 13, 0, 0),\n",
       "  'batch_number': '2'},\n",
       " {'blob': <Blob: 0_raw_data, 3_douyin/2024-10-13/douyin_user_post_1014_3.json, 1728841520263091>,\n",
       "  'date': datetime.datetime(2024, 10, 13, 0, 0),\n",
       "  'batch_number': '3'},\n",
       " {'blob': <Blob: 0_raw_data, 3_douyin/2024-10-13/douyin_user_post_1014_4.json, 1728841535667722>,\n",
       "  'date': datetime.datetime(2024, 10, 13, 0, 0),\n",
       "  'batch_number': '4'},\n",
       " {'blob': <Blob: 0_raw_data, 3_douyin/2024-10-13/douyin_user_post_1014_5.json, 1728841554833509>,\n",
       "  'date': datetime.datetime(2024, 10, 13, 0, 0),\n",
       "  'batch_number': '5'},\n",
       " {'blob': <Blob: 0_raw_data, 3_douyin/2024-10-13/douyin_user_post_1014_6.json, 1728841572821379>,\n",
       "  'date': datetime.datetime(2024, 10, 13, 0, 0),\n",
       "  'batch_number': '6'},\n",
       " {'blob': <Blob: 0_raw_data, 3_douyin/2024-10-13/douyin_user_post_1014_7.json, 1728841574702120>,\n",
       "  'date': datetime.datetime(2024, 10, 13, 0, 0),\n",
       "  'batch_number': '7'},\n",
       " {'blob': <Blob: 0_raw_data, 3_douyin/2024-10-13/douyin_user_post_1014_8.json, 1728841575207091>,\n",
       "  'date': datetime.datetime(2024, 10, 13, 0, 0),\n",
       "  'batch_number': '8'}]"
      ]
     },
     "execution_count": 3,
     "metadata": {},
     "output_type": "execute_result"
    }
   ],
   "source": [
    "processing_blobs = [\n",
    "{\n",
    "    \"blob\": blob,\n",
    "    \"date\": datetime.strptime(blob.name.split('/')[1], \"%Y-%m-%d\"),\n",
    "    \"batch_number\": blob.name.split('/')[-1].replace(\".json\", \"\").split(\"_\")[-1],\n",
    "} for blob in storage_client.list_blobs(\"0_raw_data\",prefix=\"3_douyin/\") if api_name in blob.name]\n",
    "processing_blobs"
   ]
  },
  {
   "cell_type": "code",
   "execution_count": 5,
   "metadata": {},
   "outputs": [
    {
     "data": {
      "text/plain": [
       "[{'blob': <Blob: 3_staging_area, 2_douyin/douyin_user_post/2024-10-13/douyin_user_post_241014_0.parquet, 1728893176080756>,\n",
       "  'date': datetime.datetime(2024, 10, 13, 0, 0),\n",
       "  'batch_number': '0'},\n",
       " {'blob': <Blob: 3_staging_area, 2_douyin/douyin_user_post/2024-10-13/douyin_user_post_241014_1.parquet, 1728893187747009>,\n",
       "  'date': datetime.datetime(2024, 10, 13, 0, 0),\n",
       "  'batch_number': '1'},\n",
       " {'blob': <Blob: 3_staging_area, 2_douyin/douyin_user_post/2024-10-13/douyin_user_post_241014_2.parquet, 1728893196673185>,\n",
       "  'date': datetime.datetime(2024, 10, 13, 0, 0),\n",
       "  'batch_number': '2'},\n",
       " {'blob': <Blob: 3_staging_area, 2_douyin/douyin_user_post/2024-10-13/douyin_user_post_241014_3.parquet, 1728893205850248>,\n",
       "  'date': datetime.datetime(2024, 10, 13, 0, 0),\n",
       "  'batch_number': '3'},\n",
       " {'blob': <Blob: 3_staging_area, 2_douyin/douyin_user_post/2024-10-13/douyin_user_post_241014_4.parquet, 1728893216586452>,\n",
       "  'date': datetime.datetime(2024, 10, 13, 0, 0),\n",
       "  'batch_number': '4'},\n",
       " {'blob': <Blob: 3_staging_area, 2_douyin/douyin_user_post/2024-10-13/douyin_user_post_241014_5.parquet, 1728893237566414>,\n",
       "  'date': datetime.datetime(2024, 10, 13, 0, 0),\n",
       "  'batch_number': '5'},\n",
       " {'blob': <Blob: 3_staging_area, 2_douyin/douyin_user_post/2024-10-13/douyin_user_post_241014_6.parquet, 1728893258748492>,\n",
       "  'date': datetime.datetime(2024, 10, 13, 0, 0),\n",
       "  'batch_number': '6'},\n",
       " {'blob': <Blob: 3_staging_area, 2_douyin/douyin_user_post/2024-10-13/douyin_user_post_241014_7.parquet, 1728893261833583>,\n",
       "  'date': datetime.datetime(2024, 10, 13, 0, 0),\n",
       "  'batch_number': '7'},\n",
       " {'blob': <Blob: 3_staging_area, 2_douyin/douyin_user_post/2024-10-13/douyin_user_post_241014_8.parquet, 1728893263323798>,\n",
       "  'date': datetime.datetime(2024, 10, 13, 0, 0),\n",
       "  'batch_number': '8'}]"
      ]
     },
     "execution_count": 5,
     "metadata": {},
     "output_type": "execute_result"
    }
   ],
   "source": [
    "processed_blobs = [{\n",
    "    \"blob\": blob,\n",
    "    \"date\": datetime.strptime(blob.name.split('/')[2], \"%Y-%m-%d\"),\n",
    "    \"batch_number\": blob.name.split('/')[-1].replace(\".parquet\", \"\").split(\"_\")[-1],\n",
    "} for blob in storage_client.list_blobs(\"3_staging_area\",prefix=\"2_douyin/\") if api_name in blob.name]\n",
    "processed_blobs"
   ]
  },
  {
   "cell_type": "code",
   "execution_count": 6,
   "metadata": {},
   "outputs": [
    {
     "name": "stdout",
     "output_type": "stream",
     "text": [
      "[]\n",
      "0\n"
     ]
    }
   ],
   "source": [
    "to_process = []\n",
    "for processing_blob in processing_blobs:\n",
    "    if processing_blob[\"date\"] >= datetime(2024, 9, 17):\n",
    "        if processing_blob[\"batch_number\"] not in [processed_blob[\"batch_number\"] for processed_blob in processed_blobs if processing_blob[\"date\"] == processed_blob[\"date\"]]:\n",
    "            to_process.append(processing_blob)\n",
    "pprint(to_process)\n",
    "print(len(to_process))"
   ]
  },
  {
   "cell_type": "code",
   "execution_count": 40,
   "metadata": {},
   "outputs": [],
   "source": [
    "def get_douyin_user_post_data(raw_data):\n",
    "    result = []\n",
    "    for data in raw_data:\n",
    "        user_post_data = data.get(\"user_post_data\")\n",
    "        if user_post_data:\n",
    "            aweme_list = user_post_data.get(\"aweme_list\")\n",
    "            if aweme_list:\n",
    "                for aweme in aweme_list:\n",
    "                    record = {}\n",
    "                    video = aweme.get(\"video\")\n",
    "                    if video:\n",
    "                        play_addr = video.get(\"play_addr\")\n",
    "                        if play_addr:\n",
    "                            uri = play_addr[\"uri\"]\n",
    "                            record[\"play_addr\"] = uri\n",
    "                        dynamic_cover = video.get(\"dynamic_cover\")\n",
    "                        if dynamic_cover:\n",
    "                            uri = dynamic_cover[\"uri\"]\n",
    "                            record[\"dynamic_cover\"] = uri\n",
    "                    record[\"aweme_id\"] = aweme[\"aweme_id\"]\n",
    "                    record[\"caption\"] = aweme[\"caption\"]\n",
    "                    statistics = aweme.get(\"statistics\")\n",
    "                    if statistics:\n",
    "                        record[\"comment_count\"] = statistics[\"comment_count\"]\n",
    "                        record[\"digg_count\"] = statistics[\"digg_count\"]\n",
    "                        record[\"share_count\"] = statistics[\"share_count\"]\n",
    "                        record[\"collect_count\"] = statistics[\"collect_count\"]\n",
    "                    record[\"create_time\"] = aweme[\"create_time\"]\n",
    "                    record[\"author_user_id\"] = aweme[\"author_user_id\"]\n",
    "                    music = aweme.get(\"music\")\n",
    "                    if music:\n",
    "                        record[\"video_duration\"] = music[\"video_duration\"]\n",
    "                    record[\"note_interactions\"] = sum([\n",
    "                        record[\"comment_count\"],\n",
    "                        record[\"digg_count\"],\n",
    "                        record[\"share_count\"],\n",
    "                        record[\"collect_count\"]\n",
    "                    ])\n",
    "                    result.append(record)\n",
    "    return result"
   ]
  },
  {
   "cell_type": "code",
   "execution_count": 44,
   "metadata": {},
   "outputs": [],
   "source": [
    "for item in to_process:\n",
    "    raw_data = json.loads(item[\"blob\"].download_as_string())\n",
    "    result = get_douyin_user_post_data(raw_data)\n",
    "    df = pd.DataFrame(result)\n",
    "    df.to_parquet(\"gs://3_staging_area/2_douyin/douyin_user_post/\" + str(item[\"date\"].date()) + \"/douyin_user_post_\" + today.strftime(\"%y%m%d\") + \"_\" + str(item[\"batch_number\"]) + \".parquet\")"
   ]
  }
 ],
 "metadata": {
  "kernelspec": {
   "display_name": "Python 3",
   "language": "python",
   "name": "python3"
  },
  "language_info": {
   "codemirror_mode": {
    "name": "ipython",
    "version": 3
   },
   "file_extension": ".py",
   "mimetype": "text/x-python",
   "name": "python",
   "nbconvert_exporter": "python",
   "pygments_lexer": "ipython3",
   "version": "3.11.6"
  }
 },
 "nbformat": 4,
 "nbformat_minor": 2
}
