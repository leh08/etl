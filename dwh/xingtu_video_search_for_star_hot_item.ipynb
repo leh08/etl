{
 "cells": [
  {
   "cell_type": "code",
   "execution_count": 12,
   "metadata": {},
   "outputs": [],
   "source": [
    "from bs4 import BeautifulSoup\n",
    "import urllib.request\n",
    "import requests\n",
    "from pprint import pprint\n",
    "import pandas as pd\n",
    "import json\n",
    "import copy\n",
    "from datetime import datetime, timezone\n",
    "from google.cloud import storage\n",
    "import gcsfs\n",
    "import re"
   ]
  },
  {
   "cell_type": "code",
   "execution_count": 13,
   "metadata": {},
   "outputs": [],
   "source": [
    "storage_client = storage.Client(project=\"ytone-430507\")\n",
    "today = datetime.now()\n",
    "table_name = \"douyin_video\"\n",
    "api_name = \"search_for_star_hot_item\""
   ]
  },
  {
   "cell_type": "code",
   "execution_count": 14,
   "metadata": {},
   "outputs": [
    {
     "data": {
      "text/plain": [
       "[{'blob': <Blob: 0_raw_data, 2_xingtu/2024-10-02/search_for_star_hot_item_241002_0.json, 1727845379748570>,\n",
       "  'date': datetime.datetime(2024, 10, 2, 0, 0),\n",
       "  'batch_number': 0},\n",
       " {'blob': <Blob: 0_raw_data, 2_xingtu/2024-10-06/search_for_star_hot_item_241006_0.json, 1728189969156322>,\n",
       "  'date': datetime.datetime(2024, 10, 6, 0, 0),\n",
       "  'batch_number': 0}]"
      ]
     },
     "execution_count": 14,
     "metadata": {},
     "output_type": "execute_result"
    }
   ],
   "source": [
    "processing_blobs = [\n",
    "{\n",
    "    \"blob\": blob,\n",
    "    \"date\": datetime.strptime(blob.name.split('/')[1], \"%Y-%m-%d\"),\n",
    "    \"batch_number\": int(blob.name.split('/')[-1].replace(\".json\", \"\").split(\"_\")[-1]),\n",
    "} for blob in storage_client.list_blobs(\"0_raw_data\",prefix=\"2_xingtu/\") if api_name in blob.name]\n",
    "processing_blobs"
   ]
  },
  {
   "cell_type": "code",
   "execution_count": 15,
   "metadata": {},
   "outputs": [
    {
     "data": {
      "text/plain": [
       "[{'blob': <Blob: 3_staging_area, 1_xingtu/douyin_video/2024-09-30/search_for_star_hot_item_241001_0.parquet, 1727772493257816>,\n",
       "  'date': datetime.datetime(2024, 9, 30, 0, 0),\n",
       "  'batch_number': 0},\n",
       " {'blob': <Blob: 3_staging_area, 1_xingtu/douyin_video/2024-10-02/search_for_star_hot_item_241002_0.parquet, 1727845663822959>,\n",
       "  'date': datetime.datetime(2024, 10, 2, 0, 0),\n",
       "  'batch_number': 0},\n",
       " {'blob': <Blob: 3_staging_area, 1_xingtu/douyin_video/2024-10-06/search_for_star_hot_item_241007_0.parquet, 1728274957271450>,\n",
       "  'date': datetime.datetime(2024, 10, 6, 0, 0),\n",
       "  'batch_number': 0}]"
      ]
     },
     "execution_count": 15,
     "metadata": {},
     "output_type": "execute_result"
    }
   ],
   "source": [
    "processed_blobs = [{\n",
    "    \"blob\": blob,\n",
    "    \"date\": datetime.strptime(blob.name.split('/')[2], \"%Y-%m-%d\"),\n",
    "    \"batch_number\": int(blob.name.split('/')[-1].replace(\".parquet\", \"\").split(\"_\")[-1]),\n",
    "} for blob in storage_client.list_blobs(\"3_staging_area\",prefix=\"1_xingtu/\") if table_name == blob.name.split(\"/\")[1] and len(blob.name.split(\"/\")) == 4]\n",
    "processed_blobs"
   ]
  },
  {
   "cell_type": "code",
   "execution_count": 16,
   "metadata": {},
   "outputs": [
    {
     "name": "stdout",
     "output_type": "stream",
     "text": [
      "[]\n",
      "0\n"
     ]
    }
   ],
   "source": [
    "to_process = []\n",
    "for processing_blob in processing_blobs:\n",
    "    if processing_blob[\"batch_number\"] not in [processed_blob[\"batch_number\"] for processed_blob in processed_blobs if processing_blob[\"date\"] == processed_blob[\"date\"]]:\n",
    "        to_process.append(processing_blob)\n",
    "pprint(to_process)\n",
    "print(len(to_process))"
   ]
  },
  {
   "cell_type": "code",
   "execution_count": 6,
   "metadata": {},
   "outputs": [
    {
     "data": {
      "text/plain": [
       "{'美妆': 1,\n",
       " '3C及电器': 2,\n",
       " '零售': 3,\n",
       " '日化': 4,\n",
       " '游戏': 5,\n",
       " '食品饮料': 6,\n",
       " '工具类软件': 7,\n",
       " '母婴宠物': 8,\n",
       " '服装配饰': 9,\n",
       " '汽车': 10}"
      ]
     },
     "execution_count": 6,
     "metadata": {},
     "output_type": "execute_result"
    }
   ],
   "source": [
    "industry_mapping = {\n",
    "    \"美妆\": 1,\n",
    "    \"3C及电器\": 2,\n",
    "    \"零售\": 3,\n",
    "    \"日化\": 4,\n",
    "    \"游戏\": 5,\n",
    "    \"食品饮料\": 6,\n",
    "    \"工具类软件\": 7,\n",
    "    \"母婴宠物\": 8,\n",
    "    \"服装配饰\": 9,\n",
    "    \"汽车\": 10\n",
    "}\n",
    "industry_mapping"
   ]
  },
  {
   "cell_type": "code",
   "execution_count": 7,
   "metadata": {},
   "outputs": [
    {
     "data": {
      "text/plain": [
       "{'时尚': 1,\n",
       " '美食': 2,\n",
       " '生活记录': 3,\n",
       " '生活家居': 4,\n",
       " '亲子': 5,\n",
       " '母婴': 6,\n",
       " '游戏': 7,\n",
       " '教育校园': 8,\n",
       " '汽车': 9,\n",
       " '体育': 10,\n",
       " '科技': 11,\n",
       " '科普': 12,\n",
       " '剧情': 13,\n",
       " '旅行': 14,\n",
       " '动物': 15}"
      ]
     },
     "execution_count": 7,
     "metadata": {},
     "output_type": "execute_result"
    }
   ],
   "source": [
    "category_mapping = {\n",
    "    \"时尚\": 1,\n",
    "    \"美食\": 2,\n",
    "    \"生活记录\": 3,\n",
    "    \"生活家居\": 4,\n",
    "    \"亲子\": 5,\n",
    "    \"母婴\": 6,\n",
    "    \"游戏\": 7,\n",
    "    \"教育校园\": 8,\n",
    "    \"汽车\": 9,\n",
    "    \"体育\": 10,\n",
    "    \"科技\": 11,\n",
    "    \"科普\": 12,\n",
    "    \"剧情\": 13,\n",
    "    \"旅行\": 14,\n",
    "    \"动物\": 15\n",
    "}\n",
    "category_mapping"
   ]
  },
  {
   "cell_type": "code",
   "execution_count": 8,
   "metadata": {},
   "outputs": [],
   "source": [
    "def get_search_for_star_hot_item_data(raw_data):\n",
    "    result = []\n",
    "    for data in raw_data:\n",
    "        search_for_star_hot_item = data.get(\"data\")\n",
    "        if search_for_star_hot_item:\n",
    "            for item in search_for_star_hot_item:\n",
    "                attribute_datas = item.get(\"attribute_datas\")\n",
    "                record = {}\n",
    "                record[\"video_id\"] = attribute_datas[\"video_id\"].replace('\"', \"\")\n",
    "                record[\"item_id\"] = item[\"item_id\"]\n",
    "                item_title = attribute_datas.get(\"item_title\")\n",
    "                if item_title:\n",
    "                    record[\"title\"] = item_title.replace('\"', \"\")\n",
    "                record[\"image_url\"] = attribute_datas[\"item_cover_url\"].replace('\"', \"\")\n",
    "                record[\"like\"] = attribute_datas[\"like\"].replace('\"', \"\")\n",
    "                record[\"play\"] = attribute_datas[\"play\"].replace('\"', \"\")\n",
    "                record[\"influencer_id\"] = item[\"star_id\"]\n",
    "                record[\"component_convert_count\"] = attribute_datas[\"component_convert_count\"].replace('\"', \"\")\n",
    "                record[\"sale_amount\"] = attribute_datas[\"sale_amount\"].replace('\"', \"\")\n",
    "                record[\"interaction_rate\"] = attribute_datas[\"interact_rate\"]\n",
    "                record[\"completion_rate\"] = attribute_datas[\"finish_play_rate\"]\n",
    "                record[\"xt_ranking_type\"] = data[\"item_list_type\"] - 1\n",
    "                record[\"industry_ids\"] = \"{\" + str(industry_mapping[data[\"industry\"]]) + \"}\"\n",
    "                record[\"category_ids\"] = \"{\" + str(category_mapping[data[\"content\"]]) + \"}\"\n",
    "                result.append(record)\n",
    "    return result"
   ]
  },
  {
   "cell_type": "code",
   "execution_count": 11,
   "metadata": {},
   "outputs": [],
   "source": [
    "for item in to_process:\n",
    "    raw_data = json.loads(item[\"blob\"].download_as_string())    \n",
    "    search_for_star_hot_item_data = get_search_for_star_hot_item_data(raw_data)\n",
    "    df = pd.DataFrame(search_for_star_hot_item_data)\n",
    "    df.to_parquet(\"gs://3_staging_area/1_xingtu/douyin_video/\" + str(item[\"date\"].date()) + \"/search_for_star_hot_item_\" + today.strftime(\"%y%m%d\") + \"_\" + str(item[\"batch_number\"]) + \".parquet\")"
   ]
  }
 ],
 "metadata": {
  "kernelspec": {
   "display_name": "Python 3",
   "language": "python",
   "name": "python3"
  },
  "language_info": {
   "codemirror_mode": {
    "name": "ipython",
    "version": 3
   },
   "file_extension": ".py",
   "mimetype": "text/x-python",
   "name": "python",
   "nbconvert_exporter": "python",
   "pygments_lexer": "ipython3",
   "version": "3.11.6"
  }
 },
 "nbformat": 4,
 "nbformat_minor": 2
}
