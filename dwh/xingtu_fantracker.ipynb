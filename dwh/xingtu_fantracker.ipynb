{
 "cells": [
  {
   "cell_type": "code",
   "execution_count": 15,
   "metadata": {},
   "outputs": [],
   "source": [
    "from bs4 import BeautifulSoup\n",
    "import urllib.request\n",
    "import requests\n",
    "from pprint import pprint\n",
    "import pandas as pd\n",
    "import json\n",
    "import copy\n",
    "from datetime import datetime, timezone\n",
    "from google.cloud import storage\n",
    "import gcsfs\n",
    "import re\n",
    "from typing import List"
   ]
  },
  {
   "cell_type": "code",
   "execution_count": 16,
   "metadata": {},
   "outputs": [],
   "source": [
    "storage_client = storage.Client(project=\"ytone-430507\")\n",
    "today = datetime.now()\n",
    "table_name = \"douyin_fantracker\"\n",
    "api_name = \"get_author_daily_fans\""
   ]
  },
  {
   "cell_type": "code",
   "execution_count": 17,
   "metadata": {},
   "outputs": [],
   "source": [
    "fantracker_data = []\n",
    "fantracker_columns = [\"date_key\", \"fans_count\", \"influencer_id\"]"
   ]
  },
  {
   "cell_type": "code",
   "execution_count": 18,
   "metadata": {},
   "outputs": [
    {
     "data": {
      "text/plain": [
       "[{'blob': <Blob: 0_raw_data, 2_xingtu/2024-09-11/get_author_daily_fans_0911_0.json, 1726037772347381>,\n",
       "  'date': datetime.datetime(2024, 9, 11, 0, 0),\n",
       "  'batch_number': 0},\n",
       " {'blob': <Blob: 0_raw_data, 2_xingtu/2024-09-17/get_author_daily_fans_0917_0.json, 1726565275242714>,\n",
       "  'date': datetime.datetime(2024, 9, 17, 0, 0),\n",
       "  'batch_number': 0},\n",
       " {'blob': <Blob: 0_raw_data, 2_xingtu/2024-09-18/get_author_daily_fans_0918_0.json, 1726633853919905>,\n",
       "  'date': datetime.datetime(2024, 9, 18, 0, 0),\n",
       "  'batch_number': 0},\n",
       " {'blob': <Blob: 0_raw_data, 2_xingtu/2024-09-19/get_author_daily_fans_0919_0.json, 1726719806270115>,\n",
       "  'date': datetime.datetime(2024, 9, 19, 0, 0),\n",
       "  'batch_number': 0},\n",
       " {'blob': <Blob: 0_raw_data, 2_xingtu/2024-10-09/get_author_daily_fans_241009_0.json, 1728450610402889>,\n",
       "  'date': datetime.datetime(2024, 10, 9, 0, 0),\n",
       "  'batch_number': 0},\n",
       " {'blob': <Blob: 0_raw_data, 2_xingtu/2024-10-11/get_author_daily_fans_1011_0.json, 1728632611249040>,\n",
       "  'date': datetime.datetime(2024, 10, 11, 0, 0),\n",
       "  'batch_number': 0}]"
      ]
     },
     "execution_count": 18,
     "metadata": {},
     "output_type": "execute_result"
    }
   ],
   "source": [
    "processing_blobs = [\n",
    "{\n",
    "    \"blob\": blob,\n",
    "    \"date\": datetime.strptime(blob.name.split('/')[1], \"%Y-%m-%d\"),\n",
    "    \"batch_number\": int(blob.name.split('/')[-1].replace(\".json\", \"\").split(\"_\")[-1]),\n",
    "} for blob in storage_client.list_blobs(\"0_raw_data\",prefix=\"2_xingtu/\") if api_name in blob.name]\n",
    "processing_blobs"
   ]
  },
  {
   "cell_type": "code",
   "execution_count": 19,
   "metadata": {},
   "outputs": [
    {
     "data": {
      "text/plain": [
       "[{'blob': <Blob: 4_data_warehouse, 1_xingtu/douyin_fantracker/2024-09-09/douyin_fantracker_240924_0.parquet, 1727172223527066>,\n",
       "  'date': datetime.datetime(2024, 9, 9, 0, 0),\n",
       "  'batch_number': 0},\n",
       " {'blob': <Blob: 4_data_warehouse, 1_xingtu/douyin_fantracker/2024-09-10/douyin_fantracker_240918_0.parquet, 1726630470659978>,\n",
       "  'date': datetime.datetime(2024, 9, 10, 0, 0),\n",
       "  'batch_number': 0},\n",
       " {'blob': <Blob: 4_data_warehouse, 1_xingtu/douyin_fantracker/2024-09-11/douyin_fantracker_240918_0.parquet, 1726630650706935>,\n",
       "  'date': datetime.datetime(2024, 9, 11, 0, 0),\n",
       "  'batch_number': 0},\n",
       " {'blob': <Blob: 4_data_warehouse, 1_xingtu/douyin_fantracker/2024-09-17/douyin_fantracker_240918_0.parquet, 1726631758393602>,\n",
       "  'date': datetime.datetime(2024, 9, 17, 0, 0),\n",
       "  'batch_number': 0},\n",
       " {'blob': <Blob: 4_data_warehouse, 1_xingtu/douyin_fantracker/2024-09-18/douyin_fantracker_240918_0.parquet, 1726653819862900>,\n",
       "  'date': datetime.datetime(2024, 9, 18, 0, 0),\n",
       "  'batch_number': 0},\n",
       " {'blob': <Blob: 4_data_warehouse, 1_xingtu/douyin_fantracker/2024-09-19/douyin_fantracker_240919_0.parquet, 1726722008998339>,\n",
       "  'date': datetime.datetime(2024, 9, 19, 0, 0),\n",
       "  'batch_number': 0},\n",
       " {'blob': <Blob: 4_data_warehouse, 1_xingtu/douyin_fantracker/2024-10-09/douyin_fantracker_241009_0.parquet, 1728456774976339>,\n",
       "  'date': datetime.datetime(2024, 10, 9, 0, 0),\n",
       "  'batch_number': 0}]"
      ]
     },
     "execution_count": 19,
     "metadata": {},
     "output_type": "execute_result"
    }
   ],
   "source": [
    "processed_blobs = [{\n",
    "    \"blob\": blob,\n",
    "    \"date\": datetime.strptime(blob.name.split('/')[2], \"%Y-%m-%d\"),\n",
    "    \"batch_number\": int(blob.name.split('/')[-1].replace(\".parquet\", \"\").split(\"_\")[-1]),\n",
    "} for blob in storage_client.list_blobs(\"4_data_warehouse\",prefix=\"1_xingtu/\") if table_name == blob.name.split(\"/\")[1] and len(blob.name.split(\"/\")) == 4]\n",
    "processed_blobs"
   ]
  },
  {
   "cell_type": "code",
   "execution_count": 20,
   "metadata": {},
   "outputs": [
    {
     "name": "stdout",
     "output_type": "stream",
     "text": [
      "[{'batch_number': 0,\n",
      "  'blob': <Blob: 0_raw_data, 2_xingtu/2024-10-11/get_author_daily_fans_1011_0.json, 1728632611249040>,\n",
      "  'date': datetime.datetime(2024, 10, 11, 0, 0)}]\n",
      "1\n"
     ]
    }
   ],
   "source": [
    "to_process = []\n",
    "for processing_blob in processing_blobs:\n",
    "    if processing_blob[\"date\"] >= datetime(2024, 9, 13):\n",
    "        if processing_blob[\"batch_number\"] not in [processed_blob[\"batch_number\"] for processed_blob in processed_blobs if processing_blob[\"date\"] == processed_blob[\"date\"]]:\n",
    "            to_process.append(processing_blob)\n",
    "pprint(to_process)\n",
    "print(len(to_process))"
   ]
  },
  {
   "cell_type": "code",
   "execution_count": 24,
   "metadata": {},
   "outputs": [],
   "source": [
    "def get_author_daily_fans_data(raw_data):\n",
    "    result = []\n",
    "    for data in raw_data:\n",
    "        profile_id = data[\"profile_id\"]\n",
    "        get_author_daily_fans = data.get(\"get_author_daily_fans\")\n",
    "        if get_author_daily_fans:\n",
    "            daily = get_author_daily_fans.get(\"daily\")\n",
    "            if daily:\n",
    "                for item in daily:\n",
    "                    record = {}\n",
    "                    record[\"date_key\"] = item[\"date\"]\n",
    "                    record[\"fans_count\"] = item[\"fans_cnt\"]\n",
    "                    record[\"influencer_id\"] = profile_id\n",
    "                    result.append(record)\n",
    "    return result\n"
   ]
  },
  {
   "cell_type": "code",
   "execution_count": 25,
   "metadata": {},
   "outputs": [],
   "source": [
    "for item in to_process:\n",
    "    raw_data = json.loads(item[\"blob\"].download_as_string())\n",
    "    fantracker_data = get_author_daily_fans_data(raw_data)\n",
    "    if fantracker_data:\n",
    "        df = pd.DataFrame(fantracker_data, columns=fantracker_columns)\n",
    "        df.to_parquet(\"gs://4_data_warehouse/1_xingtu/douyin_fantracker/\" + str(item[\"date\"].date()) + \"/douyin_fantracker_\" + today.strftime(\"%y%m%d\") + \"_\" + str(item[\"batch_number\"]) + \".parquet\")"
   ]
  }
 ],
 "metadata": {
  "kernelspec": {
   "display_name": "Python 3",
   "language": "python",
   "name": "python3"
  },
  "language_info": {
   "codemirror_mode": {
    "name": "ipython",
    "version": 3
   },
   "file_extension": ".py",
   "mimetype": "text/x-python",
   "name": "python",
   "nbconvert_exporter": "python",
   "pygments_lexer": "ipython3",
   "version": "3.11.6"
  }
 },
 "nbformat": 4,
 "nbformat_minor": 2
}
